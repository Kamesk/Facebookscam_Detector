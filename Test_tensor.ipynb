Epoch 1/100
15/15 [==============================] - 1s 14ms/step - loss: -46.1709 - accuracy: 0.1013 - val_loss: -289.1470 - val_accuracy: 0.0948
Epoch 2/100
15/15 [==============================] - 0s 5ms/step - loss: -65.8717 - accuracy: 0.1142 - val_loss: -346.1536 - val_accuracy: 0.0948
Epoch 3/100
15/15 [==============================] - 0s 5ms/step - loss: -77.8024 - accuracy: 0.1164 - val_loss: -422.3775 - val_accuracy: 0.0948
Epoch 4/100
15/15 [==============================] - 0s 5ms/step - loss: -97.3555 - accuracy: 0.1164 - val_loss: -464.1197 - val_accuracy: 0.0948
Epoch 5/100
15/15 [==============================] - 0s 8ms/step - loss: -113.7380 - accuracy: 0.1164 - val_loss: -546.6143 - val_accuracy: 0.0948
Epoch 6/100
15/15 [==============================] - 0s 4ms/step - loss: -132.1972 - accuracy: 0.1164 - val_loss: -615.0531 - val_accuracy: 0.0948
Epoch 7/100
15/15 [==============================] - 0s 4ms/step - loss: -149.7107 - accuracy: 0.1164 - val_loss: -673.4087 - val_accuracy: 0.0948
Epoch 8/100
15/15 [==============================] - 0s 5ms/step - loss: -163.6465 - accuracy: 0.1164 - val_loss: -781.1066 - val_accuracy: 0.0948
Epoch 9/100
15/15 [==============================] - 0s 5ms/step - loss: -185.9326 - accuracy: 0.1164 - val_loss: -860.3971 - val_accuracy: 0.0948
Epoch 10/100
15/15 [==============================] - 0s 4ms/step - loss: -188.2696 - accuracy: 0.1164 - val_loss: -999.8464 - val_accuracy: 0.0948
Epoch 11/100
15/15 [==============================] - 0s 6ms/step - loss: -235.3006 - accuracy: 0.1164 - val_loss: -1037.0461 - val_accuracy: 0.0948
Epoch 12/100
15/15 [==============================] - 0s 5ms/step - loss: -250.5078 - accuracy: 0.1164 - val_loss: -1134.4296 - val_accuracy: 0.0948
Epoch 13/100
15/15 [==============================] - 0s 5ms/step - loss: -274.2039 - accuracy: 0.1164 - val_loss: -1194.5785 - val_accuracy: 0.0948
Epoch 14/100
15/15 [==============================] - 0s 5ms/step - loss: -294.2684 - accuracy: 0.1164 - val_loss: -1324.0040 - val_accuracy: 0.0948
Epoch 15/100
15/15 [==============================] - 0s 6ms/step - loss: -329.6494 - accuracy: 0.1164 - val_loss: -1403.4882 - val_accuracy: 0.0948
Epoch 16/100
15/15 [==============================] - 0s 5ms/step - loss: -356.0473 - accuracy: 0.1164 - val_loss: -1497.5427 - val_accuracy: 0.0948
Epoch 17/100
15/15 [==============================] - 0s 5ms/step - loss: -381.3798 - accuracy: 0.1164 - val_loss: -1659.4496 - val_accuracy: 0.0948
Epoch 18/100
15/15 [==============================] - 0s 5ms/step - loss: -413.8982 - accuracy: 0.1164 - val_loss: -1824.5712 - val_accuracy: 0.0948
Epoch 19/100
15/15 [==============================] - 0s 5ms/step - loss: -444.9921 - accuracy: 0.1164 - val_loss: -2006.7900 - val_accuracy: 0.0948
Epoch 20/100
15/15 [==============================] - 0s 5ms/step - loss: -490.9839 - accuracy: 0.1164 - val_loss: -2029.5465 - val_accuracy: 0.0948
Epoch 21/100
15/15 [==============================] - 0s 7ms/step - loss: -537.4988 - accuracy: 0.1164 - val_loss: -2208.7502 - val_accuracy: 0.0948
Epoch 22/100
15/15 [==============================] - 0s 4ms/step - loss: -566.7661 - accuracy: 0.1164 - val_loss: -2438.9233 - val_accuracy: 0.0948
Epoch 23/100
15/15 [==============================] - 0s 5ms/step - loss: -640.0994 - accuracy: 0.1164 - val_loss: -2563.7632 - val_accuracy: 0.0948
Epoch 24/100
15/15 [==============================] - 0s 5ms/step - loss: -681.3268 - accuracy: 0.1164 - val_loss: -2700.1799 - val_accuracy: 0.0948
Epoch 25/100
15/15 [==============================] - 0s 6ms/step - loss: -738.7663 - accuracy: 0.1164 - val_loss: -2875.5452 - val_accuracy: 0.0948
Epoch 26/100
15/15 [==============================] - 0s 6ms/step - loss: -786.6823 - accuracy: 0.1164 - val_loss: -3244.4963 - val_accuracy: 0.0948
Epoch 27/100
15/15 [==============================] - 0s 6ms/step - loss: -867.6367 - accuracy: 0.1164 - val_loss: -3547.9724 - val_accuracy: 0.0948
Epoch 28/100
15/15 [==============================] - 0s 5ms/step - loss: -961.8347 - accuracy: 0.1164 - val_loss: -3757.9846 - val_accuracy: 0.0948
Epoch 29/100
15/15 [==============================] - 0s 5ms/step - loss: -1023.2568 - accuracy: 0.1164 - val_loss: -4051.9773 - val_accuracy: 0.0948
Epoch 30/100
15/15 [==============================] - 0s 5ms/step - loss: -1077.5872 - accuracy: 0.1164 - val_loss: -4434.9043 - val_accuracy: 0.0948
Epoch 31/100
15/15 [==============================] - 0s 5ms/step - loss: -1135.8488 - accuracy: 0.1164 - val_loss: -4327.6650 - val_accuracy: 0.0948
Epoch 32/100
15/15 [==============================] - 0s 6ms/step - loss: -1214.1742 - accuracy: 0.1164 - val_loss: -4554.6260 - val_accuracy: 0.0948
Epoch 33/100
15/15 [==============================] - 0s 5ms/step - loss: -1290.7921 - accuracy: 0.1164 - val_loss: -4816.8862 - val_accuracy: 0.0948
Epoch 34/100
15/15 [==============================] - 0s 4ms/step - loss: -1347.4542 - accuracy: 0.1164 - val_loss: -5304.9121 - val_accuracy: 0.0948
Epoch 35/100
15/15 [==============================] - 0s 5ms/step - loss: -1485.6943 - accuracy: 0.1164 - val_loss: -5676.6177 - val_accuracy: 0.0948
Epoch 36/100
15/15 [==============================] - 0s 4ms/step - loss: -1571.7922 - accuracy: 0.1164 - val_loss: -6107.1714 - val_accuracy: 0.0948
Epoch 37/100
15/15 [==============================] - 0s 5ms/step - loss: -1687.2211 - accuracy: 0.1164 - val_loss: -6249.3511 - val_accuracy: 0.0948
Epoch 38/100
15/15 [==============================] - 0s 9ms/step - loss: -1780.4589 - accuracy: 0.1164 - val_loss: -6754.6187 - val_accuracy: 0.0948
Epoch 39/100
15/15 [==============================] - 0s 4ms/step - loss: -1912.6034 - accuracy: 0.1164 - val_loss: -7226.9482 - val_accuracy: 0.0948
Epoch 40/100
15/15 [==============================] - 0s 5ms/step - loss: -2056.0444 - accuracy: 0.1164 - val_loss: -7585.3179 - val_accuracy: 0.0948
Epoch 41/100
15/15 [==============================] - 0s 5ms/step - loss: -2185.5947 - accuracy: 0.1164 - val_loss: -8000.2646 - val_accuracy: 0.0948
Epoch 42/100
15/15 [==============================] - 0s 4ms/step - loss: -2177.9331 - accuracy: 0.1164 - val_loss: -8802.4209 - val_accuracy: 0.0948
Epoch 43/100
15/15 [==============================] - 0s 4ms/step - loss: -2467.5002 - accuracy: 0.1164 - val_loss: -8926.3564 - val_accuracy: 0.0948
Epoch 44/100
15/15 [==============================] - 0s 5ms/step - loss: -2544.9509 - accuracy: 0.1164 - val_loss: -9347.7285 - val_accuracy: 0.0948
Epoch 45/100
15/15 [==============================] - 0s 5ms/step - loss: -2687.1509 - accuracy: 0.1164 - val_loss: -9688.7051 - val_accuracy: 0.0948
Epoch 46/100
15/15 [==============================] - 0s 5ms/step - loss: -2835.0605 - accuracy: 0.1164 - val_loss: -10281.9033 - val_accuracy: 0.0948
Epoch 47/100
15/15 [==============================] - 0s 6ms/step - loss: -2929.3794 - accuracy: 0.1164 - val_loss: -11017.5703 - val_accuracy: 0.0948
Epoch 48/100
15/15 [==============================] - 0s 6ms/step - loss: -3166.8650 - accuracy: 0.1164 - val_loss: -11665.8135 - val_accuracy: 0.0948
Epoch 49/100
15/15 [==============================] - 0s 5ms/step - loss: -3331.2126 - accuracy: 0.1164 - val_loss: -11842.8467 - val_accuracy: 0.0948
Epoch 50/100
15/15 [==============================] - 0s 5ms/step - loss: -3438.1755 - accuracy: 0.1164 - val_loss: -12825.8135 - val_accuracy: 0.0948
Epoch 51/100
15/15 [==============================] - 0s 5ms/step - loss: -3731.7151 - accuracy: 0.1164 - val_loss: -13282.3945 - val_accuracy: 0.0948
Epoch 52/100
15/15 [==============================] - 0s 6ms/step - loss: -3834.9807 - accuracy: 0.1164 - val_loss: -14241.0342 - val_accuracy: 0.0948
Epoch 53/100
15/15 [==============================] - 0s 8ms/step - loss: -4146.0542 - accuracy: 0.1164 - val_loss: -14620.9629 - val_accuracy: 0.0948
Epoch 54/100
15/15 [==============================] - 0s 4ms/step - loss: -4274.6631 - accuracy: 0.1164 - val_loss: -15587.2354 - val_accuracy: 0.0948
Epoch 55/100
15/15 [==============================] - 0s 4ms/step - loss: -4541.3823 - accuracy: 0.1164 - val_loss: -16364.5176 - val_accuracy: 0.0948
Epoch 56/100
15/15 [==============================] - 0s 4ms/step - loss: -4828.2280 - accuracy: 0.1164 - val_loss: -17032.9609 - val_accuracy: 0.0948
Epoch 57/100
15/15 [==============================] - 0s 4ms/step - loss: -4992.8496 - accuracy: 0.1164 - val_loss: -18023.5996 - val_accuracy: 0.0948
Epoch 58/100
15/15 [==============================] - 0s 5ms/step - loss: -5268.7314 - accuracy: 0.1164 - val_loss: -19098.2695 - val_accuracy: 0.0948
Epoch 59/100
15/15 [==============================] - 0s 5ms/step - loss: -5576.5732 - accuracy: 0.1164 - val_loss: -19938.9590 - val_accuracy: 0.0948
Epoch 60/100
15/15 [==============================] - 0s 4ms/step - loss: -5812.8354 - accuracy: 0.1164 - val_loss: -20556.5352 - val_accuracy: 0.0948
Epoch 61/100
15/15 [==============================] - 0s 5ms/step - loss: -6123.1733 - accuracy: 0.1164 - val_loss: -21503.9883 - val_accuracy: 0.0948
Epoch 62/100
15/15 [==============================] - 0s 6ms/step - loss: -6423.9136 - accuracy: 0.1164 - val_loss: -22532.0293 - val_accuracy: 0.0948
Epoch 63/100
15/15 [==============================] - 0s 6ms/step - loss: -6711.6050 - accuracy: 0.1164 - val_loss: -23691.7051 - val_accuracy: 0.0948
Epoch 64/100
15/15 [==============================] - 0s 5ms/step - loss: -7020.3765 - accuracy: 0.1164 - val_loss: -24899.4434 - val_accuracy: 0.0948
Epoch 65/100
15/15 [==============================] - 0s 5ms/step - loss: -7368.3428 - accuracy: 0.1164 - val_loss: -25644.8887 - val_accuracy: 0.0948
Epoch 66/100
15/15 [==============================] - 0s 5ms/step - loss: -7761.9795 - accuracy: 0.1164 - val_loss: -26915.8340 - val_accuracy: 0.0948
Epoch 67/100
15/15 [==============================] - 0s 8ms/step - loss: -8199.1318 - accuracy: 0.1164 - val_loss: -28630.8320 - val_accuracy: 0.0948
Epoch 68/100
15/15 [==============================] - 0s 5ms/step - loss: -8588.9092 - accuracy: 0.1164 - val_loss: -30070.8164 - val_accuracy: 0.0948
Epoch 69/100
15/15 [==============================] - 0s 4ms/step - loss: -8820.2393 - accuracy: 0.1164 - val_loss: -31890.5195 - val_accuracy: 0.0948
Epoch 70/100
15/15 [==============================] - 0s 4ms/step - loss: -9418.3408 - accuracy: 0.1164 - val_loss: -32798.0273 - val_accuracy: 0.0948
Epoch 71/100
15/15 [==============================] - 0s 5ms/step - loss: -9769.1729 - accuracy: 0.1164 - val_loss: -34426.1758 - val_accuracy: 0.0948
Epoch 72/100
15/15 [==============================] - 0s 5ms/step - loss: -10092.5059 - accuracy: 0.1164 - val_loss: -36207.5000 - val_accuracy: 0.0948
Epoch 73/100
15/15 [==============================] - 0s 5ms/step - loss: -10675.9893 - accuracy: 0.1164 - val_loss: -37353.0820 - val_accuracy: 0.0948
Epoch 74/100
15/15 [==============================] - 0s 4ms/step - loss: -11044.9805 - accuracy: 0.1164 - val_loss: -38876.4492 - val_accuracy: 0.0948
Epoch 75/100
15/15 [==============================] - 0s 5ms/step - loss: -11406.1348 - accuracy: 0.1164 - val_loss: -39830.0742 - val_accuracy: 0.0948
Epoch 76/100
15/15 [==============================] - 0s 6ms/step - loss: -11693.4434 - accuracy: 0.1164 - val_loss: -42135.2031 - val_accuracy: 0.0948
Epoch 77/100
15/15 [==============================] - 0s 6ms/step - loss: -12439.2422 - accuracy: 0.1164 - val_loss: -43525.8516 - val_accuracy: 0.0948
Epoch 78/100
15/15 [==============================] - 0s 5ms/step - loss: -12889.5664 - accuracy: 0.1164 - val_loss: -44832.4180 - val_accuracy: 0.0948
Epoch 79/100
15/15 [==============================] - 0s 4ms/step - loss: -13361.2217 - accuracy: 0.1164 - val_loss: -46106.7539 - val_accuracy: 0.0948
Epoch 80/100
15/15 [==============================] - 0s 4ms/step - loss: -13851.2520 - accuracy: 0.1164 - val_loss: -48504.7891 - val_accuracy: 0.0948
Epoch 81/100
15/15 [==============================] - 0s 5ms/step - loss: -14451.8320 - accuracy: 0.1164 - val_loss: -50295.8398 - val_accuracy: 0.0948
Epoch 82/100
15/15 [==============================] - 0s 5ms/step - loss: -15007.9160 - accuracy: 0.1164 - val_loss: -52141.6016 - val_accuracy: 0.0948
Epoch 83/100
15/15 [==============================] - 0s 6ms/step - loss: -15502.3750 - accuracy: 0.1164 - val_loss: -54915.7188 - val_accuracy: 0.0948
Epoch 84/100
15/15 [==============================] - 0s 5ms/step - loss: -16413.8398 - accuracy: 0.1164 - val_loss: -56815.6250 - val_accuracy: 0.0948
Epoch 85/100
15/15 [==============================] - 0s 4ms/step - loss: -16977.6055 - accuracy: 0.1164 - val_loss: -58895.2227 - val_accuracy: 0.0948
Epoch 86/100
15/15 [==============================] - 0s 4ms/step - loss: -17375.4238 - accuracy: 0.1164 - val_loss: -61445.0938 - val_accuracy: 0.0948
Epoch 87/100
15/15 [==============================] - 0s 4ms/step - loss: -17986.0859 - accuracy: 0.1164 - val_loss: -63839.9922 - val_accuracy: 0.0948
Epoch 88/100
15/15 [==============================] - 0s 5ms/step - loss: -18652.4453 - accuracy: 0.1164 - val_loss: -66081.9453 - val_accuracy: 0.0948
Epoch 89/100
15/15 [==============================] - 0s 4ms/step - loss: -19338.6133 - accuracy: 0.1164 - val_loss: -67001.7656 - val_accuracy: 0.0948
Epoch 90/100
15/15 [==============================] - 0s 4ms/step - loss: -19679.0391 - accuracy: 0.1164 - val_loss: -70015.1250 - val_accuracy: 0.0948
Epoch 91/100
15/15 [==============================] - 0s 5ms/step - loss: -20623.7676 - accuracy: 0.1164 - val_loss: -71271.0156 - val_accuracy: 0.0948
Epoch 92/100
15/15 [==============================] - 0s 4ms/step - loss: -20903.7539 - accuracy: 0.1164 - val_loss: -74316.5000 - val_accuracy: 0.0948
Epoch 93/100
15/15 [==============================] - 0s 4ms/step - loss: -21534.7480 - accuracy: 0.1164 - val_loss: -77145.8438 - val_accuracy: 0.0948
Epoch 94/100
15/15 [==============================] - 0s 4ms/step - loss: -22677.8887 - accuracy: 0.1164 - val_loss: -78162.7734 - val_accuracy: 0.0948
Epoch 95/100
15/15 [==============================] - 0s 4ms/step - loss: -23165.9609 - accuracy: 0.1164 - val_loss: -79821.0547 - val_accuracy: 0.0948
Epoch 96/100
15/15 [==============================] - 0s 6ms/step - loss: -23791.6289 - accuracy: 0.1164 - val_loss: -82150.8594 - val_accuracy: 0.0948
Epoch 97/100
15/15 [==============================] - 0s 5ms/step - loss: -24229.4531 - accuracy: 0.1164 - val_loss: -86295.2344 - val_accuracy: 0.0948
Epoch 98/100
15/15 [==============================] - 0s 5ms/step - loss: -25511.0801 - accuracy: 0.1164 - val_loss: -88277.1016 - val_accuracy: 0.0948
Epoch 99/100
15/15 [==============================] - 0s 5ms/step - loss: -26239.9414 - accuracy: 0.1164 - val_loss: -90532.3359 - val_accuracy: 0.0948
Epoch 100/100
15/15 [==============================] - 0s 5ms/step - loss: -26834.8457 - accuracy: 0.1164 - val_loss: -92849.9688 - val_accuracy: 0.0948
5/5 [==============================] - 0s 2ms/step
Accuracy: 0.10273972602739725
Classification Report:
               precision    recall  f1-score   support

    Not_scam       0.00      0.00      0.00        29
  Legitimate       0.10      1.00      0.19        15
        Scam       0.00      0.00      0.00       102

    accuracy                           0.10       146
   macro avg       0.03      0.33      0.06       146
weighted avg       0.01      0.10      0.02       146

